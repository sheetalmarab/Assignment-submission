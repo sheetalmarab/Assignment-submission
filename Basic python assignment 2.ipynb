{
 "cells": [
  {
   "cell_type": "raw",
   "id": "ed81a0a5",
   "metadata": {},
   "source": [
    "#Question 1\n",
    "What are the two values of the Boolean data type? How do you write them?                                              \n",
    "Answer: We can use this data type to represent boolean values.The only allowed values are True and False .Internally python represents True as 1 and False as 0 .                                                                                                                                                                                     "
   ]
  },
  {
   "cell_type": "code",
   "execution_count": 1,
   "id": "1e544f29",
   "metadata": {},
   "outputs": [
    {
     "name": "stdout",
     "output_type": "stream",
     "text": [
      "True\n"
     ]
    }
   ],
   "source": [
    "#example\n",
    "a=10\n",
    "b=5\n",
    "c=(a>b)\n",
    "print(c)"
   ]
  },
  {
   "cell_type": "raw",
   "id": "4d3c91ac",
   "metadata": {},
   "source": [
    "#Question 2\n",
    "What are the three different types of Boolean operators?\n",
    "Answer:There are three logical operators that are used to compare values. They evaluate expressions down to Boolean values, returning either True or False . These operators are and , or ,  not. "
   ]
  },
  {
   "cell_type": "raw",
   "id": "edd72fd8",
   "metadata": {},
   "source": [
    "#Question 3\n",
    "Make a list of each Boolean operator truth table                                                                  "
   ]
  },
  {
   "cell_type": "raw",
   "id": "2e4f496c",
   "metadata": {},
   "source": [
    "# truth table of AND\n",
    " (True and True)\n",
    " (True and False) \n",
    " (False and True )\n",
    "(False and False)"
   ]
  },
  {
   "cell_type": "raw",
   "id": "0f44ccbc",
   "metadata": {},
   "source": [
    "# Truth table for OR\n",
    "True or True\n",
    "True or False \n",
    "False or True\n",
    "False or False\n"
   ]
  },
  {
   "cell_type": "raw",
   "id": "3613a1eb",
   "metadata": {},
   "source": [
    "#truth table for NOT\n",
    "not(True)\n",
    "not (False)"
   ]
  },
  {
   "cell_type": "raw",
   "id": "57bb029f",
   "metadata": {},
   "source": [
    "#Question 4\n",
    "What are the values of the following expressions?\n",
    "Answer:\n"
   ]
  },
  {
   "cell_type": "code",
   "execution_count": 1,
   "id": "2e2eeac5",
   "metadata": {},
   "outputs": [
    {
     "name": "stdout",
     "output_type": "stream",
     "text": [
      "False\n",
      "False\n",
      "True\n",
      "False\n",
      "False\n",
      "True\n"
     ]
    }
   ],
   "source": [
    "print((5>4) and (3==5))\n",
    "print(not(5>4))\n",
    "print((5>4) or (3==5))\n",
    "print(not(5>4) or (3==5))\n",
    "print((True and True) and (True==False))\n",
    "print((not(False))or(not(True)))"
   ]
  },
  {
   "cell_type": "raw",
   "id": "9a21cca8",
   "metadata": {},
   "source": [
    "#Question 5\n",
    "What are the six comparison operators?\n",
    "Answer:\n",
    "==, !=, <, >, <=, and >="
   ]
  },
  {
   "cell_type": "raw",
   "id": "c6a08d8c",
   "metadata": {},
   "source": [
    "#Question 6\n",
    "How do you tell the difference between the equal to and assignment operators?Describe a condition and when you would use one.\n",
    "Answer :== is the equal to operator that compares two values and evaluates to a Boolean, while = is the assignment operator that stores a value in a variable."
   ]
  },
  {
   "cell_type": "code",
   "execution_count": 3,
   "id": "ab5c359d",
   "metadata": {},
   "outputs": [
    {
     "name": "stdout",
     "output_type": "stream",
     "text": [
      "False\n",
      "c = 1\n"
     ]
    }
   ],
   "source": [
    "#Example\n",
    "\n",
    "# Equal To Operator\n",
    "if(4==3):\n",
    "    print(\"True\")\n",
    "else:\n",
    "    print(\"False\")\n",
    "#Assignment operator\n",
    "a=1 #here we have used assignment operator(=) to assign value of c which is 1\n",
    "print(\"a =\",a)"
   ]
  },
  {
   "cell_type": "raw",
   "id": "988edde8",
   "metadata": {},
   "source": [
    "#Question 7\n",
    "Identify the three blocks in this code:"
   ]
  },
  {
   "cell_type": "code",
   "execution_count": 4,
   "id": "954084b6",
   "metadata": {},
   "outputs": [
    {
     "name": "stdout",
     "output_type": "stream",
     "text": [
      "ham\n",
      "spam\n",
      "spam\n"
     ]
    }
   ],
   "source": [
    "#answer\n",
    "spam = 0\n",
    "if spam == 10:\n",
    "    print('eggs') #Block 1\n",
    "if spam > 5:\n",
    "    print('bacon') #Block 2\n",
    "else:\n",
    "    print('ham') #Block 3\n",
    "    print('spam')\n",
    "    print('spam')"
   ]
  },
  {
   "cell_type": "raw",
   "id": "2a90bd7a",
   "metadata": {},
   "source": [
    "#Question 8\n",
    "Write code that prints Hello if 1 is stored in spam, prints Howdy if 2 is stored in spam, and prints Greetings! if anything else is stored in spam."
   ]
  },
  {
   "cell_type": "code",
   "execution_count": 10,
   "id": "4fa105c1",
   "metadata": {},
   "outputs": [
    {
     "name": "stdout",
     "output_type": "stream",
     "text": [
      "5\n",
      "Greetings!\n"
     ]
    }
   ],
   "source": [
    "#Answer\n",
    "spam=int(input())\n",
    "if spam ==1:\n",
    " print (\"hello\")\n",
    "elif spam==2:\n",
    " print(\"Howdy\")\n",
    "else:\n",
    "print(\"Greetings!\")"
   ]
  },
  {
   "cell_type": "raw",
   "id": "577b9ba8",
   "metadata": {},
   "source": [
    "#Question 9\n",
    "If your programme is stuck in an endless loop, what keys you’ll press?\n",
    "Answer: If program is stuck in endless loop we will press ctrl+c."
   ]
  },
  {
   "cell_type": "raw",
   "id": "a64ace37",
   "metadata": {},
   "source": [
    "#Question 10\n",
    "How can you tell the difference between break and continue?\n",
    "#answer:A break statement in Python alters the flow of a loop by terminating it once a specified condition is met. Continue: The continue statement in Python is used to skip the remaining code inside a loop for the current iteration only."
   ]
  },
  {
   "cell_type": "code",
   "execution_count": 12,
   "id": "7ffeb0c8",
   "metadata": {},
   "outputs": [
    {
     "name": "stdout",
     "output_type": "stream",
     "text": [
      "0\n",
      "1\n",
      "2\n",
      "3\n",
      "Break\n",
      "0\n",
      "1\n",
      "2\n",
      "3\n",
      "4\n",
      "5\n",
      "6\n",
      "8\n",
      "9\n"
     ]
    }
   ],
   "source": [
    "#Example \n",
    "# use of break\n",
    "for i in range(10):\n",
    "    if(i==4):\n",
    "        break\n",
    "    print(i)\n",
    "    \n",
    "print('Break')\n",
    "#use of  continue\n",
    "for i in range(10):\n",
    "    if(i==7):\n",
    "        continue\n",
    "    print(i)"
   ]
  },
  {
   "cell_type": "raw",
   "id": "08f804c7",
   "metadata": {},
   "source": [
    "#Question 10\n",
    "In a for loop, what is the difference between range(10), range(0, 10), and range(0, 10, 1)?"
   ]
  },
  {
   "cell_type": "code",
   "execution_count": 14,
   "id": "6420ad23",
   "metadata": {},
   "outputs": [
    {
     "name": "stdout",
     "output_type": "stream",
     "text": [
      "0\n",
      "1\n",
      "2\n",
      "3\n",
      "4\n",
      "5\n",
      "6\n",
      "7\n",
      "8\n",
      "9\n",
      "0\n",
      "1\n",
      "2\n",
      "3\n",
      "4\n",
      "5\n",
      "6\n",
      "7\n",
      "8\n",
      "9\n"
     ]
    }
   ],
   "source": [
    "#Answer\n",
    "for i in range(10):\n",
    " print(i)"
   ]
  },
  {
   "cell_type": "code",
   "execution_count": 15,
   "id": "3627d3c9",
   "metadata": {},
   "outputs": [
    {
     "name": "stdout",
     "output_type": "stream",
     "text": [
      "0\n",
      "1\n",
      "2\n",
      "3\n",
      "4\n",
      "5\n",
      "6\n",
      "7\n",
      "8\n",
      "9\n"
     ]
    }
   ],
   "source": [
    "for i in range(0,10):\n",
    " print(i)"
   ]
  },
  {
   "cell_type": "code",
   "execution_count": 17,
   "id": "67e9ef81",
   "metadata": {},
   "outputs": [
    {
     "name": "stdout",
     "output_type": "stream",
     "text": [
      "0\n",
      "1\n",
      "2\n",
      "3\n",
      "4\n",
      "5\n",
      "6\n",
      "7\n",
      "8\n",
      "9\n"
     ]
    }
   ],
   "source": [
    "for i in range(0,10,1):\n",
    " print(i)"
   ]
  },
  {
   "cell_type": "raw",
   "id": "a5f1304c",
   "metadata": {},
   "source": [
    "From the above output we can conclude that they all do the same thing. The range(10) call ranges from 0 up to 9 but not including 10, range(0, 10) tells the loop to start at 0, and range(0, 10, 1) tells the loop to increase the variable by 1 on each iteration."
   ]
  },
  {
   "cell_type": "raw",
   "id": "c3f1c7fd",
   "metadata": {},
   "source": [
    "#Question 12\n",
    "Write a short program that prints the numbers 1 to 10 using a for loop. Then write an equivalent program that prints the numbers 1 to 10 using a while loop.\n"
   ]
  },
  {
   "cell_type": "code",
   "execution_count": 4,
   "id": "d12218fa",
   "metadata": {},
   "outputs": [
    {
     "name": "stdout",
     "output_type": "stream",
     "text": [
      "1\n",
      "2\n",
      "3\n",
      "4\n",
      "5\n",
      "6\n",
      "7\n",
      "8\n",
      "9\n",
      "10\n",
      "1\n",
      "2\n",
      "3\n",
      "4\n",
      "5\n",
      "6\n",
      "7\n",
      "8\n",
      "9\n",
      "10\n"
     ]
    }
   ],
   "source": [
    "#Answer\n",
    "#use of for loop\n",
    "for i in range (1,11):\n",
    " print(i)\n",
    "#use of while loop\n",
    "a =1\n",
    "while a <= 10:\n",
    "    print(a)\n",
    "    a+=1"
   ]
  },
  {
   "cell_type": "raw",
   "id": "5a3c72db",
   "metadata": {},
   "source": [
    "#Question 13\n",
    "If you had a function named bacon() inside a module named spam, how would you call it after\n",
    "importing spam?\n",
    "#Answer\n",
    "This function can be called with spam.bacon()."
   ]
  },
  {
   "cell_type": "code",
   "execution_count": null,
   "id": "920b5c51",
   "metadata": {},
   "outputs": [],
   "source": []
  }
 ],
 "metadata": {
  "kernelspec": {
   "display_name": "Python 3",
   "language": "python",
   "name": "python3"
  },
  "language_info": {
   "codemirror_mode": {
    "name": "ipython",
    "version": 3
   },
   "file_extension": ".py",
   "mimetype": "text/x-python",
   "name": "python",
   "nbconvert_exporter": "python",
   "pygments_lexer": "ipython3",
   "version": "3.8.8"
  }
 },
 "nbformat": 4,
 "nbformat_minor": 5
}
