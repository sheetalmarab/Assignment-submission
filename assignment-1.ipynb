{
 "cells": [
  {
   "cell_type": "raw",
   "id": "6e64293e",
   "metadata": {},
   "source": [
    "#question 1\n",
    "In the below elementwhich of them are values or an expression?\n",
    "\n",
    "Answer: Values can be integer or string and expresion will be mathematical operators.\n",
    "    *,-,/,+ are expression and 'hello',-87.8,6 are values\n",
    "\n"
   ]
  },
  {
   "cell_type": "raw",
   "id": "5dbdf994",
   "metadata": {},
   "source": [
    "#Question 2\n",
    "What is difference between string and variable ?\n",
    "Answer: \n",
    "    strings are sequence of character that areused for comveying textual information.\n",
    "    variables are symbols that you can use to store data in program ."
   ]
  },
  {
   "cell_type": "raw",
   "id": "52c2afdb",
   "metadata": {},
   "source": [
    "#Question 3\n",
    "Describe 3 different data types.\n",
    "Answer:\n",
    "     Numeric data types: int, float, complex.\n",
    "     String data types: str.\n",
    "     Sequence types: list, tuple, range."
   ]
  },
  {
   "cell_type": "raw",
   "id": "1f40615d",
   "metadata": {},
   "source": [
    "#Question 4\n",
    "What is an expression made up of? What do all expressions do?\n",
    "Answer:\n",
    "    An expression is a combination of operators and operands that is interpreted to produce some other value.                   The expression in Python produces some value or result after being interpreted by the Python interpreter. An expression     in Python is a combination of operators and operands.                                                                       Example:  A=10                                                                                                                       A=A+11"
   ]
  },
  {
   "cell_type": "raw",
   "id": "e19ce4e9",
   "metadata": {},
   "source": [
    "#Question  5                                                                                                                  This assignment statements, like spam = 10. What is the difference between an expression and a statement?\n",
    "Answer:                                                                                                                           An expression evaluates to a single value. A statement does not"
   ]
  },
  {
   "cell_type": "raw",
   "id": "a9b8e9a5",
   "metadata": {},
   "source": [
    "#Question 6                                                                                                                  After running the following code, what does the variable bacon contain?                                                        bacon = 22                                                                                                                  bacon + 1\n",
    "Answer :     23                                                                                                                  "
   ]
  },
  {
   "cell_type": "raw",
   "id": "7060fa8d",
   "metadata": {},
   "source": [
    "#Question 7                                                                                                                   What should the values of the following two terms be?                                                                      'spam'+'spamspam'                                                                                                          'spam'*3                   \n",
    "Answer:                                                                                                                           1 'spam'+'spamspam'= 'spamspamspam'                                                                                         2 'spam'*3 ='spamspamspam'  "
   ]
  },
  {
   "cell_type": "raw",
   "id": "2503c6f4",
   "metadata": {},
   "source": [
    "#Question 8                                                                                                                     Why is eggs a valid variable name while 100 is invalid?  \n",
    "Answer:  Variable name cannot beign with a number."
   ]
  },
  {
   "cell_type": "raw",
   "id": "5068a1c3",
   "metadata": {},
   "source": [
    "#Question 9                                                                                                                      What three functions can be used to get the integer, floating-point number, or string version of a value?\n",
    "Answer:The int(), float(), and str() functions will evaluate to the integer, floating-point number, and string versions of the value passed to them."
   ]
  },
  {
   "cell_type": "raw",
   "id": "b5ef41f7",
   "metadata": {},
   "source": [
    "#Question  10                                                                                                                   Why does this expression cause an error? How can you fix it? 'I have eaten '+99+'burritos' \n",
    "Answer:The expression causes an error because 99 is an integer, and only strings can be concatenated to other strings with the + operator. The correct way is 'I have eaten '+'99'+'burritos'"
   ]
  }
 ],
 "metadata": {
  "kernelspec": {
   "display_name": "Python 3",
   "language": "python",
   "name": "python3"
  },
  "language_info": {
   "codemirror_mode": {
    "name": "ipython",
    "version": 3
   },
   "file_extension": ".py",
   "mimetype": "text/x-python",
   "name": "python",
   "nbconvert_exporter": "python",
   "pygments_lexer": "ipython3",
   "version": "3.8.8"
  }
 },
 "nbformat": 4,
 "nbformat_minor": 5
}
